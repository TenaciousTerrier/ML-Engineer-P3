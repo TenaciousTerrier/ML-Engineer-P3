{
 "cells": [
  {
   "cell_type": "markdown",
   "metadata": {},
   "source": [
    "# Creating Customer Segments"
   ]
  },
  {
   "cell_type": "markdown",
   "metadata": {},
   "source": [
    "In this project you, will analyze a dataset containing annual spending amounts for internal structure, to understand the variation in the different types of customers that a wholesale distributor interacts with.\n",
    "\n",
    "Instructions:\n",
    "\n",
    "- Run each code block below by pressing **Shift+Enter**, making sure to implement any steps marked with a TODO.\n",
    "- Answer each question in the space provided by editing the blocks labeled \"Answer:\".\n",
    "- When you are done, submit the completed notebook (.ipynb) with all code blocks executed, as well as a .pdf version (File > Download as)."
   ]
  },
  {
   "cell_type": "code",
   "execution_count": 1,
   "metadata": {
    "collapsed": false
   },
   "outputs": [
    {
     "name": "stdout",
     "output_type": "stream",
     "text": [
      "Dataset has 440 rows, 6 columns\n",
      "   Fresh  Milk  Grocery  Frozen  Detergents_Paper  Delicatessen\n",
      "0  12669  9656     7561     214              2674          1338\n",
      "1   7057  9810     9568    1762              3293          1776\n",
      "2   6353  8808     7684    2405              3516          7844\n",
      "3  13265  1196     4221    6404               507          1788\n",
      "4  22615  5410     7198    3915              1777          5185\n"
     ]
    }
   ],
   "source": [
    "# Import libraries: NumPy, pandas, matplotlib\n",
    "import numpy as np\n",
    "import pandas as pd\n",
    "import matplotlib.pyplot as plt\n",
    "\n",
    "# Tell iPython to include plots inline in the notebook\n",
    "%matplotlib inline\n",
    "\n",
    "# Read dataset\n",
    "data = pd.read_csv(\"wholesale-customers.csv\")\n",
    "print \"Dataset has {} rows, {} columns\".format(*data.shape)\n",
    "print data.head()  # print the first 5 rows"
   ]
  },
  {
   "cell_type": "markdown",
   "metadata": {},
   "source": [
    "##Feature Transformation"
   ]
  },
  {
   "cell_type": "markdown",
   "metadata": {},
   "source": [
    "**1)** In this section you will be using PCA and ICA to start to understand the structure of the data. Before doing any computations, what do you think will show up in your computations? List one or two ideas for what might show up as the first PCA dimensions, or what type of vectors will show up as ICA dimensions."
   ]
  },
  {
   "cell_type": "markdown",
   "metadata": {},
   "source": [
    "Answer:"
   ]
  },
  {
   "cell_type": "markdown",
   "metadata": {},
   "source": [
    "###PCA"
   ]
  },
  {
   "cell_type": "code",
   "execution_count": 2,
   "metadata": {
    "collapsed": false
   },
   "outputs": [
    {
     "name": "stdout",
     "output_type": "stream",
     "text": [
      "Column Means: \n",
      "Fresh               12000.297727\n",
      "Milk                 5796.265909\n",
      "Grocery              7951.277273\n",
      "Frozen               3071.931818\n",
      "Detergents_Paper     2881.493182\n",
      "Delicatessen         1524.870455\n",
      "dtype: float64\n",
      "\n",
      "Column Variances: \n",
      "Fresh               1.599549e+08\n",
      "Milk                5.446997e+07\n",
      "Grocery             9.031010e+07\n",
      "Frozen              2.356785e+07\n",
      "Detergents_Paper    2.273244e+07\n",
      "Delicatessen        7.952997e+06\n",
      "dtype: float64\n",
      "\n",
      "Principal Components:\n",
      "[[-0.97653685 -0.12118407 -0.06154039 -0.15236462  0.00705417 -0.06810471]\n",
      " [-0.11061386  0.51580216  0.76460638 -0.01872345  0.36535076  0.05707921]\n",
      " [-0.17855726  0.50988675 -0.27578088  0.71420037 -0.20440987  0.28321747]\n",
      " [-0.04187648 -0.64564047  0.37546049  0.64629232  0.14938013 -0.02039579]\n",
      " [ 0.015986    0.20323566 -0.1602915   0.22018612  0.20793016 -0.91707659]\n",
      " [-0.01576316  0.03349187  0.41093894 -0.01328898 -0.87128428 -0.26541687]]\n",
      "\n",
      "Explained Variance Ratio:\n",
      "[ 0.45961362  0.40517227  0.07003008  0.04402344  0.01502212  0.00613848]\n"
     ]
    },
    {
     "data": {
      "text/plain": [
       "(-0.25, 1)"
      ]
     },
     "execution_count": 2,
     "metadata": {},
     "output_type": "execute_result"
    },
    {
     "data": {
      "image/png": "[encoded data removed]",
      "text/plain": [
       "<matplotlib.figure.Figure at 0x181a8cc0>"
      ]
     },
     "metadata": {},
     "output_type": "display_data"
    }
   ],
   "source": [
    "# Calculate column means\n",
    "print \"Column Means: \"\n",
    "print data.mean(axis = 0)\n",
    "print \"\"\n",
    "\n",
    "# Calculate column variances\n",
    "print \"Column Variances: \"\n",
    "print data.var(axis = 0)\n",
    "print \"\"\n",
    "\n",
    "# Apply PCA with the same number of dimensions as variables in the dataset\n",
    "from sklearn.decomposition import PCA\n",
    "pca = PCA(n_components=6)\n",
    "pca.fit(data)\n",
    "\n",
    "# Print the components and the amount of variance in the data contained in each dimension\n",
    "print \"Principal Components:\"\n",
    "print pca.components_\n",
    "print \"\"\n",
    "print \"Explained Variance Ratio:\"\n",
    "print pca.explained_variance_ratio_\n",
    "\n",
    "from sklearn.decomposition import PCA\n",
    "\n",
    "def biplot(df):\n",
    "    # Fit on 2 components\n",
    "    pca = PCA(n_components=2, whiten=True).fit(df)\n",
    "\n",
    "    # Plot transformed/projected data\n",
    "    ax = pd.DataFrame(\n",
    "        pca.transform(df),\n",
    "        columns=['PC1', 'PC2']\n",
    "    ).plot(kind='scatter', x='PC1', y='PC2', figsize=(8, 6), s=0.8)\n",
    "\n",
    "    # Plot arrows and labels\n",
    "    for i, (pc1, pc2) in enumerate(\n",
    "        zip(pca.components_[0], pca.components_[1])):\n",
    "        ax.arrow(0, 0, pc1, pc2, width=0.001, fc='blue', ec='blue')\n",
    "        ax.annotate(df.columns[i], (pc1, pc2), size=12)\n",
    "\n",
    "    return ax\n",
    "\n",
    "ax = biplot(data)\n",
    "ax.set_xlim([-1.1, .5])\n",
    "ax.set_ylim([-.25, 1])"
   ]
  },
  {
   "cell_type": "markdown",
   "metadata": {},
   "source": [
    "**2)** How quickly does the variance drop off by dimension? If you were to use PCA on this dataset, how many dimensions would you choose for your analysis? Why?"
   ]
  },
  {
   "cell_type": "markdown",
   "metadata": {
    "collapsed": true
   },
   "source": [
    "Answer: "
   ]
  },
  {
   "cell_type": "markdown",
   "metadata": {},
   "source": [
    "**3)** What do the dimensions seem to represent? How can you use this information?"
   ]
  },
  {
   "cell_type": "markdown",
   "metadata": {
    "collapsed": true
   },
   "source": [
    "Answer: "
   ]
  },
  {
   "cell_type": "markdown",
   "metadata": {},
   "source": [
    "###ICA"
   ]
  },
  {
   "cell_type": "code",
   "execution_count": 3,
   "metadata": {
    "collapsed": false
   },
   "outputs": [
    {
     "name": "stdout",
     "output_type": "stream",
     "text": [
      "Independent Components: \n",
      "[[ 0.44626755 -0.06580051 -0.07321083 -0.04050213  0.09919679 -0.04534492]\n",
      " [ 0.02959158 -0.18914986 -1.05717461  0.09079973  1.14168796  0.2729513 ]\n",
      " [ 0.04373215  0.01624421  0.05360334  0.03023994 -0.02017007 -0.86638632]\n",
      " [ 0.01819894  0.71999226 -0.55001984 -0.02094976  0.15001029 -0.28744399]\n",
      " [ 0.02226418 -0.12726945  0.6898219   0.01599167 -0.12936685 -0.09286756]\n",
      " [-0.09657435 -0.01076109  0.07221298  0.67836274 -0.02160608 -0.28720254]]\n"
     ]
    }
   ],
   "source": [
    "# Fit an ICA model to the data\n",
    "# Adjust the data to have center at the origin first!\n",
    "from sklearn.decomposition import FastICA\n",
    "ica = FastICA(random_state = 33) \n",
    "\n",
    "# Convert data to float from int, center at the origin, and create ICs\n",
    "from sklearn.preprocessing import MinMaxScaler\n",
    "scaler = MinMaxScaler()\n",
    "data_scaled = data.astype(\"float\")\n",
    "rescaled_data = scaler.fit_transform(data_scaled)\n",
    "ica.fit(rescaled_data)\n",
    "\n",
    "# Print the independent components\n",
    "print \"Independent Components: \"\n",
    "print ica.components_"
   ]
  },
  {
   "cell_type": "markdown",
   "metadata": {},
   "source": [
    "**4)** For each vector in the ICA decomposition, write a sentence or two explaining what sort of object or property it corresponds to. What could these components be used for?"
   ]
  },
  {
   "cell_type": "markdown",
   "metadata": {
    "collapsed": true
   },
   "source": [
    "Answer: "
   ]
  },
  {
   "cell_type": "markdown",
   "metadata": {},
   "source": [
    "##Clustering\n",
    "\n",
    "In this section you will choose either K Means clustering or Gaussian Mixed Models clustering, which implements expectation-maximization. Then you will sample elements from the clusters to understand their significance."
   ]
  },
  {
   "cell_type": "markdown",
   "metadata": {},
   "source": [
    "###Choose a Cluster Type\n",
    "\n",
    "**5)** What are the advantages of using K Means clustering or Gaussian Mixture Models?"
   ]
  },
  {
   "cell_type": "markdown",
   "metadata": {},
   "source": [
    "Answer: "
   ]
  },
  {
   "cell_type": "markdown",
   "metadata": {},
   "source": [
    "**6)** Below is some starter code to help you visualize some cluster data. The visualization is based on [this demo](http://scikit-learn.org/stable/auto_examples/cluster/plot_kmeans_digits.html) from the sklearn documentation."
   ]
  },
  {
   "cell_type": "code",
   "execution_count": 4,
   "metadata": {
    "collapsed": true
   },
   "outputs": [],
   "source": [
    "# Import clustering modules\n",
    "from sklearn.cluster import KMeans\n",
    "from sklearn.mixture import GMM\n",
    "\n",
    "# Import Graphing Modules\n",
    "import itertools"
   ]
  },
  {
   "cell_type": "code",
   "execution_count": 5,
   "metadata": {
    "collapsed": false
   },
   "outputs": [
    {
     "name": "stdout",
     "output_type": "stream",
     "text": [
      "[[  -650.02212207   1585.51909007]\n",
      " [  4426.80497937   4042.45150884]\n",
      " [  4841.9987068    2578.762176  ]\n",
      " [  -990.34643689  -6279.80599663]\n",
      " [-10657.99873116  -2159.72581518]\n",
      " [  2765.96159271   -959.87072713]\n",
      " [   715.55089221  -2013.00226567]\n",
      " [  4474.58366697   1429.49697204]\n",
      " [  6712.09539718  -2205.90915598]\n",
      " [  4823.63435407  13480.55920489]]\n"
     ]
    }
   ],
   "source": [
    "# Reduce the data to two dimensions using PCA to capture variation\n",
    "reduced_data = PCA(n_components=2).fit_transform(data)\n",
    "print reduced_data[:10]  # print up to 10 elements"
   ]
  },
  {
   "cell_type": "code",
   "execution_count": 6,
   "metadata": {
    "collapsed": false
   },
   "outputs": [
    {
     "name": "stdout",
     "output_type": "stream",
     "text": [
      "Gaussian Mixture Models (GMM)\n",
      "\n",
      "GMM with Lowest BIC: \n",
      "GMM(covariance_type='diag', init_params='wmc', min_covar=0.001,\n",
      "  n_components=8, n_init=1, n_iter=100, params='wmc', random_state=3,\n",
      "  thresh=None, tol=0.001)\n"
     ]
    },
    {
     "data": {
      "image/png": "[encoded data removed]",
      "text/plain": [
       "<matplotlib.figure.Figure at 0x3e5fac8>"
      ]
     },
     "metadata": {},
     "output_type": "display_data"
    }
   ],
   "source": [
    "# Implement clustering algorithm here, and fit it to the reduced data for visualization\n",
    "# The visualizer below assumes your clustering object is named 'clusters'\n",
    "\n",
    "# Create GMM with varying number of components, and covariance types\n",
    "# Choose the GMM with lowest BIC\n",
    "lowest_bic = np.infty\n",
    "bic = []\n",
    "n_components_range = range(1, 11)\n",
    "cv_types = ['spherical', 'tied', 'diag', 'full']\n",
    "for cv_type in cv_types:\n",
    "    for n_components in n_components_range:\n",
    "        # Fit a mixture of Gaussians with EM\n",
    "        gmm = GMM(n_components=n_components, covariance_type=cv_type, random_state = 3)\n",
    "        gmm.fit(reduced_data)\n",
    "        bic.append(gmm.bic(reduced_data))\n",
    "        if bic[-1] < lowest_bic:\n",
    "            lowest_bic = bic[-1]\n",
    "            best_gmm = gmm\n",
    "\n",
    "bic = np.array(bic)\n",
    "color_iter = itertools.cycle(['k', 'r', 'g', 'b', 'c', 'm', 'y'])\n",
    "clusters = best_gmm\n",
    "bars = []\n",
    "\n",
    "# Plot the BIC scores\n",
    "spl = plt.subplot(2, 1, 1)\n",
    "for i, (cv_type, color) in enumerate(zip(cv_types, color_iter)):\n",
    "    xpos = np.array(n_components_range) + .2 * (i - 2)\n",
    "    bars.append(plt.bar(xpos, bic[i * len(n_components_range):\n",
    "                                  (i + 1) * len(n_components_range)],\n",
    "                        width=.2, color=color))\n",
    "plt.xticks(n_components_range)\n",
    "plt.ylim([bic.min() * 1.01 - .01 * bic.max(), bic.max()])\n",
    "plt.title('BIC score per model')\n",
    "xpos = np.mod(bic.argmin(), len(n_components_range)) + .65 +\\\n",
    "    .2 * np.floor(bic.argmin() / len(n_components_range))\n",
    "plt.text(xpos, bic.min() * 0.97 + .03 * bic.max(), '*', fontsize=14)\n",
    "spl.set_xlabel('Number of components')\n",
    "spl.legend([b[0] for b in bars], cv_types)\n",
    "\n",
    "print \"Gaussian Mixture Models (GMM)\"\n",
    "print \"\"\n",
    "print \"GMM with Lowest BIC: \"\n",
    "print clusters"
   ]
  },
  {
   "cell_type": "code",
   "execution_count": 7,
   "metadata": {
    "collapsed": false
   },
   "outputs": [],
   "source": [
    "# Plot the decision boundary by building a mesh grid to populate a graph.\n",
    "x_min, x_max = reduced_data[:, 0].min() - 1, reduced_data[:, 0].max() + 1\n",
    "y_min, y_max = reduced_data[:, 1].min() - 1, reduced_data[:, 1].max() + 1\n",
    "hx = (x_max-x_min)/1000.\n",
    "hy = (y_max-y_min)/1000.\n",
    "xx, yy = np.meshgrid(np.arange(x_min, x_max, hx), np.arange(y_min, y_max, hy))\n",
    "\n",
    "# Obtain labels for each point in mesh. Use last trained model.\n",
    "Z = clusters.predict(np.c_[xx.ravel(), yy.ravel()])"
   ]
  },
  {
   "cell_type": "code",
   "execution_count": 10,
   "metadata": {
    "collapsed": false
   },
   "outputs": [
    {
     "name": "stdout",
     "output_type": "stream",
     "text": [
      "Best Gaussian Mixture Model - 8 Centroids: \n",
      "[[ -19691.97729909   45688.76080332]\n",
      " [    454.96460816   -7661.51793015]\n",
      " [   2771.61549      14964.8735727 ]\n",
      " [   9403.49190821    5422.96562892]\n",
      " [ -26360.62555602   -8413.17639181]\n",
      " [   7536.85713524   -5271.65549509]\n",
      " [-103863.42532004    9910.34962857]\n",
      " [  -5560.93264448   -1033.10348831]]\n",
      "\n",
      "2nd Best Gaussian Mixture Model - 9 Centroids: \n",
      "[[   7603.6155731    -5908.65368594]\n",
      " [   -576.87049388   -7778.75725013]\n",
      " [    795.71460227   20486.57227042]\n",
      " [ -26493.18100272   -8366.93570167]\n",
      " [   9725.6346659     3345.45833613]\n",
      " [ -25305.65484165   46369.82419351]\n",
      " [  -4525.92141879   -1215.91182756]\n",
      " [-103863.42532004    9910.34962857]\n",
      " [   6629.38681428   11900.02335061]]\n",
      "\n",
      "3rd Best Gaussian Mixture Model - 6 Centroids: \n",
      "[[ -5302.5922379   -2735.63712267]\n",
      " [  3153.32928375  13584.82721172]\n",
      " [  2897.88277213  -7197.08718651]\n",
      " [-30769.7879195   -6778.58575045]\n",
      " [-18681.23596079  45858.58191305]\n",
      " [  9541.81771037   2877.06341735]]\n",
      "\n",
      "Convert Centroids Back to 6-D Space for Visualization and Interpetation: \n",
      "          Fresh          Milk       Grocery        Frozen  Detergents_Paper  \\\n",
      "0   2830.771433  33763.681929  13910.221557  24878.578008       5090.028436   \n",
      "1  26946.633956  -4195.448995   3950.842513  -8021.207282       2154.850306   \n",
      "2  27423.452417  13228.253116   7067.804880   6052.402986       3393.837005   \n",
      "3  34721.527286   6808.532779   4977.880943    201.740846       2867.237056   \n",
      "4    577.624173  -8035.864489   6572.349390  -8785.341412       2128.097315   \n",
      "5  33735.634123  -1521.103549   3583.254891  -6458.870598       2282.031668   \n",
      "6 -77270.811673  -3608.311800  17186.417353   1731.363836       3174.234730   \n",
      "7  20488.264598     92.228345   5546.231220  -3972.595583       2521.419180   \n",
      "\n",
      "   Delicatessen  \n",
      "0  -2650.412136  \n",
      "1   3632.953971  \n",
      "2   1585.842776  \n",
      "3   2881.894082  \n",
      "4   2180.203753  \n",
      "5   3805.597338  \n",
      "6  -3992.272168  \n",
      "7   2652.499246  \n",
      "\n"
     ]
    },
    {
     "data": {
      "image/png": "[encoded data removed]",
      "text/plain": [
       "<matplotlib.figure.Figure at 0x18a28400>"
      ]
     },
     "metadata": {},
     "output_type": "display_data"
    }
   ],
   "source": [
    "# Sample centroids from 3 best GMM models\n",
    "\n",
    "# Find the centroids for best GMM \n",
    "print \"Best Gaussian Mixture Model - \" + str(clusters.means_.shape[0]) + \" Centroids: \"\n",
    "centroids = clusters.means_\n",
    "print centroids\n",
    "print \"\"\n",
    "\n",
    "# Find the centroids for 2nd best GMM\n",
    "clusters2 = GMM(n_components=9, covariance_type = 'diag')\n",
    "clusters2.fit(reduced_data)\n",
    "print \"2nd Best Gaussian Mixture Model - \" + str(clusters2.means_.shape[0]) + \" Centroids: \"\n",
    "print clusters2.means_\n",
    "print \"\"\n",
    "\n",
    "# Find the centroids for 3rd best GMM\n",
    "clusters3 = GMM(n_components=6, covariance_type = 'diag')\n",
    "clusters3.fit(reduced_data)\n",
    "print \"3rd Best Gaussian Mixture Model - \" + str(clusters3.means_.shape[0]) + \" Centroids: \"\n",
    "print clusters3.means_\n",
    "print \"\"\n",
    "\n",
    "\n",
    "print \"Convert Centroids Back to 6-D Space for Visualization and Interpetation: \"\n",
    "centroids_6d = pd.DataFrame(data = pca.inverse_transform(np.dot(centroids, pca.components_[:2]) - pca.mean_)\n",
    "                            , columns = list(data.columns.values))\n",
    "print centroids_6d\n",
    "print \"\"\n",
    "\n",
    "# Create Bar Plots of Centroids in 6-D Space\n",
    "width = 0.3\n",
    "width_list = [0.3] * 6\n",
    "colors = ['r', 'g', 'b', 'y', 'cyan', 'indigo']\n",
    "colNames = ('Fresh', 'Milk', 'Grocery', 'Frozen', 'Detergents_Paper', 'Delicatessen')\n",
    "fig, axes = plt.subplots(nrows=3, ncols=3, sharex=True, sharey=True)\n",
    "count = 0\n",
    "for i in range(0, 3):\n",
    "    for j in range(0,3):\n",
    "        count += 1\n",
    "        if count < 9:\n",
    "            ind = range(1, centroids_6d.shape[0]-1) # the x locations for the features\n",
    "            row_data = abs(centroids_6d[count-1:count].values[0])\n",
    "            axes[i,j].bar(ind, height = row_data, width = width, color=colors)\n",
    "            axes[i,j].set_ylabel('Values')\n",
    "            axes[i,j].set_title('Centroid ' + str(count-1), fontsize = 9)\n",
    "            axes[i,j].set_xticks(ind + width_list)\n",
    "            #axes[i,j].set_xticklabels(('Fresh', 'Milk', 'Grocery', 'Frozen', 'D/P', 'DN'))\n",
    "            axes[i,j].set_xticklabels(('', '', '', '', '', ''))\n",
    "            axes[i,j].set_yticks((0, 10000, 20000, 30000, 40000))\n",
    "plt.ylim(0, 40000)\n",
    "fig.suptitle('Centroids Transformed Into 6-D Space', fontsize = 16, y = 1.05)\n",
    "plt.show()\n"
   ]
  },
  {
   "cell_type": "code",
   "execution_count": 46,
   "metadata": {
    "collapsed": false
   },
   "outputs": [
    {
     "data": {
      "image/png": "[encoded data removed]",
      "text/plain": [
       "<matplotlib.figure.Figure at 0x18b9cba8>"
      ]
     },
     "metadata": {},
     "output_type": "display_data"
    }
   ],
   "source": [
    "# Put the result into a color plot\n",
    "Z = Z.reshape(xx.shape)\n",
    "plt.figure(1)\n",
    "plt.clf()\n",
    "plt.imshow(Z, interpolation='nearest',\n",
    "           extent=(xx.min(), xx.max(), yy.min(), yy.max()),\n",
    "           cmap=plt.cm.Paired,\n",
    "           aspect='auto', origin='lower')\n",
    "\n",
    "plt.plot(reduced_data[:, 0], reduced_data[:, 1], 'k.', markersize=2)\n",
    "plt.scatter(centroids[:, 0], centroids[:, 1],\n",
    "            marker='x', s=169, linewidths=3,\n",
    "            color='w', zorder=10)\n",
    "plt.title('Clustering on the wholesale grocery dataset (PCA-reduced data)\\n'\n",
    "          'Centroids are marked with white cross')\n",
    "plt.xlim(x_min, x_max)\n",
    "plt.ylim(y_min, y_max)\n",
    "plt.xticks(())\n",
    "plt.yticks(())\n",
    "plt.show()"
   ]
  },
  {
   "cell_type": "code",
   "execution_count": 10,
   "metadata": {
    "collapsed": false
   },
   "outputs": [
    {
     "data": {
      "image/png": "[encoded data removed]",
      "text/plain": [
       "<matplotlib.figure.Figure at 0x18aef898>"
      ]
     },
     "metadata": {},
     "output_type": "display_data"
    }
   ],
   "source": [
    "# Improve the plot to focus on bottom right\n",
    "\n",
    "# Recreate mesh grid to populate a graph.\n",
    "x_min, x_max = reduced_data[:, 0].min()/2, reduced_data[:, 0].max()*2\n",
    "y_min, y_max = reduced_data[:, 1].min()*2, reduced_data[:, 1].max()/2\n",
    "hx = (x_max-x_min)/500.\n",
    "hy = (y_max-y_min)/500.\n",
    "xx, yy = np.meshgrid(np.arange(x_min, x_max, hx), np.arange(y_min, y_max, hy))\n",
    "\n",
    "# Obtain labels for each point in mesh. Use last trained model.\n",
    "Z = clusters.predict(np.c_[xx.ravel(), yy.ravel()])\n",
    "\n",
    "Z = Z.reshape(xx.shape)\n",
    "plt.figure(2)\n",
    "plt.clf()\n",
    "plt.imshow(Z, interpolation='nearest',\n",
    "           extent=(xx.min(), xx.max(), yy.min(), yy.max()),\n",
    "           cmap=plt.cm.Paired,\n",
    "           aspect='auto', origin='lower')\n",
    "\n",
    "plt.plot(reduced_data[:, 0], reduced_data[:, 1], 'k.', markersize=6)\n",
    "plt.scatter(centroids[:, 0], centroids[:, 1],\n",
    "            marker='x', s=169, linewidths=2,\n",
    "            color='w', zorder=10)\n",
    "plt.title('Improved Plot: Clustering on the wholesale grocery dataset (PCA-reduced data)\\n'\n",
    "          'Centroids are marked with white cross')\n",
    "plt.xlim(x_min, x_max)\n",
    "plt.ylim(y_min, y_max)\n",
    "plt.xticks(())\n",
    "plt.yticks(())\n",
    "plt.show()"
   ]
  },
  {
   "cell_type": "markdown",
   "metadata": {},
   "source": [
    "**7)** What are the central objects in each cluster? Describe them as customers."
   ]
  },
  {
   "cell_type": "markdown",
   "metadata": {
    "collapsed": true
   },
   "source": [
    "Answer: "
   ]
  },
  {
   "cell_type": "markdown",
   "metadata": {},
   "source": [
    "###Conclusions\n",
    "\n",
    "** 8)** Which of these techniques did you feel gave you the most insight into the data?"
   ]
  },
  {
   "cell_type": "markdown",
   "metadata": {
    "collapsed": true
   },
   "source": [
    "Answer: "
   ]
  },
  {
   "cell_type": "markdown",
   "metadata": {
    "collapsed": true
   },
   "source": [
    "**9)** How would you use that technique to help the company design new experiments?"
   ]
  },
  {
   "cell_type": "markdown",
   "metadata": {},
   "source": [
    "Answer: "
   ]
  },
  {
   "cell_type": "markdown",
   "metadata": {},
   "source": [
    "**10)** How would you use that data to help you predict future customer needs?"
   ]
  },
  {
   "cell_type": "markdown",
   "metadata": {},
   "source": [
    "Answer: "
   ]
  }
 ],
 "metadata": {
  "kernelspec": {
   "display_name": "Python 2",
   "language": "python",
   "name": "python2"
  },
  "language_info": {
   "codemirror_mode": {
    "name": "ipython",
    "version": 2
   },
   "file_extension": ".py",
   "mimetype": "text/x-python",
   "name": "python",
   "nbconvert_exporter": "python",
   "pygments_lexer": "ipython2",
   "version": "2.7.10"
  }
 },
 "nbformat": 4,
 "nbformat_minor": 0
}
